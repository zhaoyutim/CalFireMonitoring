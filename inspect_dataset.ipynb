{
 "cells": [
  {
   "cell_type": "code",
   "execution_count": 2,
   "metadata": {},
   "outputs": [],
   "source": [
    "import matplotlib.pyplot as plt\n",
    "import glob\n",
    "from Preprocessing.PreprocessingService import PreprocessingService\n",
    "preprocessing = PreprocessingService()\n",
    "location = 'edmonton'\n",
    "file_list = glob.glob('data/'+location+'/Sentinel2/*.tif')\n",
    "for file in file_list:\n",
    "    arr, _ = preprocessing.read_tiff(file)\n",
    "    for i in range(arr.shape[-1]):\n",
    "        arr = preprocessing.normalization(array=arr)\n",
    "    arr = arr.transpose((1,2,0))\n",
    "    plt.axis('off')\n",
    "    plt.imshow(arr)\n",
    "    plt.savefig('datainspect/'+location+'label'+file.split('/')[-1][:-4]+'.png', dpi=400, bbox_inches='tight')\n",
    "    plt.show()"
   ]
  },
  {
   "cell_type": "code",
   "execution_count": null,
   "metadata": {},
   "outputs": [],
   "source": []
  }
 ],
 "metadata": {
  "kernelspec": {
   "display_name": "Python 3",
   "language": "python",
   "name": "python3"
  },
  "language_info": {
   "codemirror_mode": {
    "name": "ipython",
    "version": 3
   },
   "file_extension": ".py",
   "mimetype": "text/x-python",
   "name": "python",
   "nbconvert_exporter": "python",
   "pygments_lexer": "ipython3",
   "version": "3.7.12"
  }
 },
 "nbformat": 4,
 "nbformat_minor": 2
}
